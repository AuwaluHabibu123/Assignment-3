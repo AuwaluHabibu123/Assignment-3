{
 "cells": [
  {
   "cell_type": "code",
   "execution_count": 1,
   "id": "ac69eca3",
   "metadata": {},
   "outputs": [],
   "source": [
    "x = 26678"
   ]
  },
  {
   "cell_type": "code",
   "execution_count": 5,
   "id": "578c9376",
   "metadata": {},
   "outputs": [],
   "source": []
  },
  {
   "cell_type": "code",
   "execution_count": 2,
   "id": "7b8a178f",
   "metadata": {},
   "outputs": [
    {
     "name": "stdout",
     "output_type": "stream",
     "text": [
      "26678\n"
     ]
    }
   ],
   "source": [
    "print(x)"
   ]
  },
  {
   "cell_type": "code",
   "execution_count": 7,
   "id": "32751c64",
   "metadata": {},
   "outputs": [
    {
     "name": "stdout",
     "output_type": "stream",
     "text": [
      "26681\n"
     ]
    }
   ],
   "source": [
    "z = x+3\n",
    "print(z)"
   ]
  },
  {
   "cell_type": "code",
   "execution_count": 3,
   "id": "f874135a",
   "metadata": {},
   "outputs": [],
   "source": [
    "y = 'python is an pen source programming language'"
   ]
  },
  {
   "cell_type": "code",
   "execution_count": 4,
   "id": "639eb28c",
   "metadata": {},
   "outputs": [
    {
     "name": "stdout",
     "output_type": "stream",
     "text": [
      "python is an pen source programming language\n"
     ]
    }
   ],
   "source": [
    "print(y)"
   ]
  },
  {
   "cell_type": "code",
   "execution_count": 8,
   "id": "34ffa660",
   "metadata": {},
   "outputs": [],
   "source": [
    "state_names = [\"Arizona\", \"California\", \"California\", \"Kentucky\", \"Louisiana\"]"
   ]
  },
  {
   "cell_type": "code",
   "execution_count": 9,
   "id": "e9ce1491",
   "metadata": {},
   "outputs": [
    {
     "name": "stdout",
     "output_type": "stream",
     "text": [
      "['Arizona', 'California', 'California', 'Kentucky', 'Louisiana']\n"
     ]
    }
   ],
   "source": [
    "print(state_names)"
   ]
  },
  {
   "cell_type": "code",
   "execution_count": 10,
   "id": "5cbef1b8",
   "metadata": {},
   "outputs": [
    {
     "name": "stdout",
     "output_type": "stream",
     "text": [
      "<zip object at 0x000002861E5BFC80>\n",
      "[('a', 1), ('b', 2), ('c', 3)]\n"
     ]
    }
   ],
   "source": [
    "a = ['a', 'b', 'c']\n",
    "b = [1, 2, 3]\n",
    "c = zip(a, b)\n",
    "\n",
    "print(c)\n",
    "print(list(c))"
   ]
  },
  {
   "cell_type": "code",
   "execution_count": null,
   "id": "b8bf2eba",
   "metadata": {},
   "outputs": [],
   "source": []
  }
 ],
 "metadata": {
  "kernelspec": {
   "display_name": "Python 3 (ipykernel)",
   "language": "python",
   "name": "python3"
  },
  "language_info": {
   "codemirror_mode": {
    "name": "ipython",
    "version": 3
   },
   "file_extension": ".py",
   "mimetype": "text/x-python",
   "name": "python",
   "nbconvert_exporter": "python",
   "pygments_lexer": "ipython3",
   "version": "3.9.13"
  }
 },
 "nbformat": 4,
 "nbformat_minor": 5
}
